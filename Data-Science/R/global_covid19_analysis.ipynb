{
 "cells": [
  {
   "cell_type": "markdown",
   "metadata": {},
   "source": [
    "<center>\n",
    "<img src=\"https://cf-courses-data.s3.us.cloud-object-storage.appdomain.cloud/IBMDeveloperSkillsNetwork-RP0101EN-Coursera/v2/M5_Final/images/SN_web_lightmode.png\" width=\"300\">\n",
    "</center>\n"
   ]
  },
  {
   "cell_type": "markdown",
   "metadata": {},
   "source": [
    "<h1>Analysis of Global COVID-19 Pandemic Data</h1>\n",
    "\n",
    "Estimated time needed: **90** minutes\n",
    "\n"
   ]
  },
  {
   "cell_type": "markdown",
   "metadata": {},
   "source": [
    "## Overview:\n",
    "\n",
    "There are 10 tasks in this final project. All tasks will be graded by your peers who are also completing this assignment within the same session.\n",
    "\n",
    "You need to submit the following the screenshot for the code and output for each task for review.\n",
    "\n",
    "If you need to refresh your memories about specific coding details, you may refer to previous hands-on labs for code examples.\n"
   ]
  },
  {
   "cell_type": "code",
   "execution_count": null,
   "metadata": {},
   "outputs": [],
   "source": [
    "# This lab requires 'httr' and 'rvest'packages, which are already pre-loaded into this lab environment.\n",
    "# However, if you are working on your local RStudio, please uncomment the below codes and install the packages.\n",
    "\n",
    "#install.packages(\"httr\")\n",
    "#install.packages(\"rvest\")"
   ]
  },
  {
   "cell_type": "code",
   "execution_count": 5,
   "metadata": {
    "tags": []
   },
   "outputs": [
    {
     "name": "stderr",
     "output_type": "stream",
     "text": [
      "also installing the dependency ‘curl’\n",
      "\n",
      "Updating HTML index of packages in '.Library'\n",
      "Making 'packages.html' ... done\n",
      "Warning message:\n",
      "“package ‘rvest’ is not available (for R version 3.5.1)”Loading required package: xml2\n"
     ]
    }
   ],
   "source": [
    "install.packages(\"httr\")\n",
    "install.packages(\"rvest\")\n",
    "library(httr)\n",
    "library(rvest)"
   ]
  },
  {
   "cell_type": "markdown",
   "metadata": {},
   "source": [
    "Note: if you can import above libraries, please use install.packages() to install them first.\n"
   ]
  },
  {
   "cell_type": "markdown",
   "metadata": {},
   "source": [
    "## TASK 1: Get a `COVID-19 pandemic` Wiki page using HTTP request\n"
   ]
  },
  {
   "cell_type": "markdown",
   "metadata": {},
   "source": [
    "First, let's write a function to use HTTP request to get a public COVID-19 Wiki page.\n",
    "\n",
    "Before you write the function, you can open this public page from this \n",
    "\n",
    "URL https://en.wikipedia.org/w/index.php?title=Template:COVID-19_testing_by_country using a web browser.\n",
    "\n",
    "The goal of task 1 is to get the html page using HTTP request (`httr` library)\n"
   ]
  },
  {
   "cell_type": "code",
   "execution_count": 6,
   "metadata": {
    "tags": []
   },
   "outputs": [],
   "source": [
    "get_wiki_covid19_page <- function() {\n",
    "    \n",
    "  # Our target COVID-19 wiki page URL is: https://en.wikipedia.org/w/index.php?title=Template:COVID-19_testing_by_country  \n",
    "  # Which has two parts\n",
    "    # 1) base URL `https://en.wikipedia.org/w/index.php  \n",
    "    # 2) URL parameter: `title=Template:COVID-19_testing_by_country`, seperated by question mark ?\n",
    "  # Wiki page base\n",
    "  wiki_base_url <- \"https://en.wikipedia.org/w/index.php\"\n",
    "  # You will need to create a List which has an element called `title` to specify which page you want to get from Wiki\n",
    "  # in our case, it will be `Template:COVID-19_testing_by_country`\n",
    "  query_params <- list(title = \"Template:COVID-19_testing_by_country\")\n",
    "  # - Use the `GET` function in httr library with a `url` argument and a `query` arugment to get a HTTP response\n",
    "  response <- GET(url = wiki_base_url, query = query_params)\n",
    "  # Use the `return` function to return the response\n",
    "  return(response)\n",
    "}\n"
   ]
  },
  {
   "cell_type": "markdown",
   "metadata": {},
   "source": [
    "Call the `get_wiki_covid19_page` function to get a http response with the target html page\n"
   ]
  },
  {
   "cell_type": "code",
   "execution_count": 68,
   "metadata": {
    "tags": []
   },
   "outputs": [
    {
     "name": "stdout",
     "output_type": "stream",
     "text": [
      "[1] 200\n",
      "Number of tables: 4 \n",
      "Table 1 \n",
      "  X1\n",
      "1 NA\n",
      "                                                                                                                                                                                 X2\n",
      "1 This template needs to be updated.  Please help update this template to reflect recent events or newly available information. Relevant discussion may be found on  the talk page.\n",
      "\n",
      "\n",
      "Table 2 \n",
      "    Country or region     Date[a]  Tested Units[b] Confirmed(cases)\n",
      "1         Afghanistan 17 Dec 2020 154,767  samples           49,621\n",
      "2             Albania 18 Feb 2021 428,654  samples           96,838\n",
      "3             Algeria  2 Nov 2020 230,553  samples           58,574\n",
      "4             Andorra 23 Feb 2022 300,307  samples           37,958\n",
      "5              Angola  2 Feb 2021 399,228  samples           20,981\n",
      "6 Antigua and Barbuda  6 Mar 2021  15,268  samples              832\n",
      "  Confirmed /tested,% Tested /population,% Confirmed /population,%   Ref.\n",
      "1                32.1                 0.40                    0.13    [1]\n",
      "2                22.6                 15.0                     3.4    [2]\n",
      "3                25.4                 0.53                    0.13 [3][4]\n",
      "4                12.6                  387                    49.0    [5]\n",
      "5                 5.3                  1.3                   0.067    [6]\n",
      "6                 5.4                 15.9                    0.86    [7]\n",
      "\n",
      "\n",
      "Table 3 \n",
      "  X1\n",
      "1 NA\n",
      "                                                                                   X2\n",
      "1 This template uses TemplateStyles:\\nTemplate:COVID-19 testing by country/styles.css\n",
      "\n",
      "\n",
      "Table 4 \n",
      "  Parameter Parameter    Description    Type   Status\n",
      "1     state     state no description Unknown optional\n",
      "\n",
      "\n"
     ]
    }
   ],
   "source": [
    "# Call the get_wiki_covid19_page function and print the response\n",
    "wiki_response <- get_wiki_covid19_page()\n",
    "# Print the response status and content\n",
    "print(status_code(wiki_response)) # HTTP status code\n",
    "#print(content(wiki_response, as = \"text\")) # HTML content as text\n",
    "\n",
    "# Extract all tables\n",
    "all_tables <- html_content %>%\n",
    "  html_nodes(\"table\") %>%\n",
    "  html_table()\n",
    "\n",
    "# Print out the number of tables and the first few rows of each\n",
    "cat(\"Number of tables:\", length(all_tables), \"\\n\")\n",
    "\n",
    "# Inspect the first few rows of each table to find the relevant one\n",
    "for (i in 1:length(all_tables)) {\n",
    "  cat(\"Table\", i, \"\\n\")\n",
    "  print(head(all_tables[[i]]))\n",
    "  cat(\"\\n\\n\")\n",
    "}"
   ]
  },
  {
   "cell_type": "markdown",
   "metadata": {},
   "source": [
    "## TASK 2: Extract COVID-19 testing data table from the wiki HTML page\n"
   ]
  },
  {
   "cell_type": "markdown",
   "metadata": {},
   "source": [
    "On the COVID-19 testing wiki page, you should see a data table `<table>` node contains COVID-19 testing data by country on the page:\n",
    "\n",
    "<a href=\"https://cognitiveclass.ai/\">\n",
    "    <img src=\"https://cf-courses-data.s3.us.cloud-object-storage.appdomain.cloud/IBMDeveloperSkillsNetwork-RP0101EN-Coursera/v2/M5_Final/images/covid-19-by-country.png\" width=\"400\" align=\"center\">\n",
    "</a>\n",
    "\n",
    "Note the numbers you actually see on your page may be different from above because it is still an on-going pandemic when creating this notebook.\n",
    "\n",
    "The goal of task 2 is to extract above data table and convert it into a data frame\n"
   ]
  },
  {
   "cell_type": "markdown",
   "metadata": {},
   "source": [
    "Now use the `read_html` function in rvest library to get the root html node from response\n"
   ]
  },
  {
   "cell_type": "code",
   "execution_count": 13,
   "metadata": {
    "tags": []
   },
   "outputs": [],
   "source": [
    "# Get the root html node from the http response in task 1 \n",
    "html_content <- content(wiki_response, as = \"text\")\n",
    "html_node <- read_html(html_content)"
   ]
  },
  {
   "cell_type": "markdown",
   "metadata": {},
   "source": [
    "Get the tables in the HTML root node using `html_nodes` function.\n"
   ]
  },
  {
   "cell_type": "code",
   "execution_count": 18,
   "metadata": {
    "tags": []
   },
   "outputs": [],
   "source": [
    "# Get the table node from the root html node\n",
    "table_nodes <- html_node %>% html_nodes(\"table\")  # Extract all tables"
   ]
  },
  {
   "cell_type": "markdown",
   "metadata": {},
   "source": [
    "Read the specific table from the multiple tables in the `table_node` using the `html_table` function and convert it into dataframe using `as.data.frame`\n",
    "\n",
    "_Hint:- Please read the `table_node` with index 2(ex:- table_node[2])._\n"
   ]
  },
  {
   "cell_type": "code",
   "execution_count": 79,
   "metadata": {
    "tags": []
   },
   "outputs": [
    {
     "data": {
      "text/html": [
       "<table>\n",
       "<caption>A data.frame: 6 × 9</caption>\n",
       "<thead>\n",
       "\t<tr><th></th><th scope=col>Country.or.region</th><th scope=col>Date.a.</th><th scope=col>Tested</th><th scope=col>Units.b.</th><th scope=col>Confirmed.cases.</th><th scope=col>Confirmed..tested..</th><th scope=col>Tested..population..</th><th scope=col>Confirmed..population..</th><th scope=col>Ref.</th></tr>\n",
       "\t<tr><th></th><th scope=col>&lt;chr&gt;</th><th scope=col>&lt;chr&gt;</th><th scope=col>&lt;chr&gt;</th><th scope=col>&lt;chr&gt;</th><th scope=col>&lt;chr&gt;</th><th scope=col>&lt;chr&gt;</th><th scope=col>&lt;chr&gt;</th><th scope=col>&lt;chr&gt;</th><th scope=col>&lt;chr&gt;</th></tr>\n",
       "</thead>\n",
       "<tbody>\n",
       "\t<tr><th scope=row>1</th><td>Afghanistan        </td><td>17 Dec 2020</td><td>154,767</td><td>samples</td><td>49,621</td><td>32.1</td><td>0.40</td><td>0.13 </td><td>[1]   </td></tr>\n",
       "\t<tr><th scope=row>2</th><td>Albania            </td><td>18 Feb 2021</td><td>428,654</td><td>samples</td><td>96,838</td><td>22.6</td><td>15.0</td><td>3.4  </td><td>[2]   </td></tr>\n",
       "\t<tr><th scope=row>3</th><td>Algeria            </td><td>2 Nov 2020 </td><td>230,553</td><td>samples</td><td>58,574</td><td>25.4</td><td>0.53</td><td>0.13 </td><td>[3][4]</td></tr>\n",
       "\t<tr><th scope=row>4</th><td>Andorra            </td><td>23 Feb 2022</td><td>300,307</td><td>samples</td><td>37,958</td><td>12.6</td><td>387 </td><td>49.0 </td><td>[5]   </td></tr>\n",
       "\t<tr><th scope=row>5</th><td>Angola             </td><td>2 Feb 2021 </td><td>399,228</td><td>samples</td><td>20,981</td><td>5.3 </td><td>1.3 </td><td>0.067</td><td>[6]   </td></tr>\n",
       "\t<tr><th scope=row>6</th><td>Antigua and Barbuda</td><td>6 Mar 2021 </td><td>15,268 </td><td>samples</td><td>832   </td><td>5.4 </td><td>15.9</td><td>0.86 </td><td>[7]   </td></tr>\n",
       "</tbody>\n",
       "</table>\n"
      ],
      "text/latex": [
       "A data.frame: 6 × 9\n",
       "\\begin{tabular}{r|lllllllll}\n",
       "  & Country.or.region & Date.a. & Tested & Units.b. & Confirmed.cases. & Confirmed..tested.. & Tested..population.. & Confirmed..population.. & Ref.\\\\\n",
       "  & <chr> & <chr> & <chr> & <chr> & <chr> & <chr> & <chr> & <chr> & <chr>\\\\\n",
       "\\hline\n",
       "\t1 & Afghanistan         & 17 Dec 2020 & 154,767 & samples & 49,621 & 32.1 & 0.40 & 0.13  & {[}1{]}   \\\\\n",
       "\t2 & Albania             & 18 Feb 2021 & 428,654 & samples & 96,838 & 22.6 & 15.0 & 3.4   & {[}2{]}   \\\\\n",
       "\t3 & Algeria             & 2 Nov 2020  & 230,553 & samples & 58,574 & 25.4 & 0.53 & 0.13  & {[}3{]}{[}4{]}\\\\\n",
       "\t4 & Andorra             & 23 Feb 2022 & 300,307 & samples & 37,958 & 12.6 & 387  & 49.0  & {[}5{]}   \\\\\n",
       "\t5 & Angola              & 2 Feb 2021  & 399,228 & samples & 20,981 & 5.3  & 1.3  & 0.067 & {[}6{]}   \\\\\n",
       "\t6 & Antigua and Barbuda & 6 Mar 2021  & 15,268  & samples & 832    & 5.4  & 15.9 & 0.86  & {[}7{]}   \\\\\n",
       "\\end{tabular}\n"
      ],
      "text/markdown": [
       "\n",
       "A data.frame: 6 × 9\n",
       "\n",
       "| <!--/--> | Country.or.region &lt;chr&gt; | Date.a. &lt;chr&gt; | Tested &lt;chr&gt; | Units.b. &lt;chr&gt; | Confirmed.cases. &lt;chr&gt; | Confirmed..tested.. &lt;chr&gt; | Tested..population.. &lt;chr&gt; | Confirmed..population.. &lt;chr&gt; | Ref. &lt;chr&gt; |\n",
       "|---|---|---|---|---|---|---|---|---|---|\n",
       "| 1 | Afghanistan         | 17 Dec 2020 | 154,767 | samples | 49,621 | 32.1 | 0.40 | 0.13  | [1]    |\n",
       "| 2 | Albania             | 18 Feb 2021 | 428,654 | samples | 96,838 | 22.6 | 15.0 | 3.4   | [2]    |\n",
       "| 3 | Algeria             | 2 Nov 2020  | 230,553 | samples | 58,574 | 25.4 | 0.53 | 0.13  | [3][4] |\n",
       "| 4 | Andorra             | 23 Feb 2022 | 300,307 | samples | 37,958 | 12.6 | 387  | 49.0  | [5]    |\n",
       "| 5 | Angola              | 2 Feb 2021  | 399,228 | samples | 20,981 | 5.3  | 1.3  | 0.067 | [6]    |\n",
       "| 6 | Antigua and Barbuda | 6 Mar 2021  | 15,268  | samples | 832    | 5.4  | 15.9 | 0.86  | [7]    |\n",
       "\n"
      ],
      "text/plain": [
       "  Country.or.region   Date.a.     Tested  Units.b. Confirmed.cases.\n",
       "1 Afghanistan         17 Dec 2020 154,767 samples  49,621          \n",
       "2 Albania             18 Feb 2021 428,654 samples  96,838          \n",
       "3 Algeria             2 Nov 2020  230,553 samples  58,574          \n",
       "4 Andorra             23 Feb 2022 300,307 samples  37,958          \n",
       "5 Angola              2 Feb 2021  399,228 samples  20,981          \n",
       "6 Antigua and Barbuda 6 Mar 2021  15,268  samples  832             \n",
       "  Confirmed..tested.. Tested..population.. Confirmed..population.. Ref.  \n",
       "1 32.1                0.40                 0.13                    [1]   \n",
       "2 22.6                15.0                 3.4                     [2]   \n",
       "3 25.4                0.53                 0.13                    [3][4]\n",
       "4 12.6                387                  49.0                    [5]   \n",
       "5 5.3                 1.3                  0.067                   [6]   \n",
       "6 5.4                 15.9                 0.86                    [7]   "
      ]
     },
     "metadata": {},
     "output_type": "display_data"
    }
   ],
   "source": [
    "# Read the table node and convert it into a data frame, and print the data frame for review\n",
    "covid_table <- table_nodes[2] %>% html_table(fill = TRUE) %>% as.data.frame()\n",
    "head(covid_table)  # Show the first few rows\n",
    "\n",
    "# Load DT package\n",
    "#library(DT)\n",
    "# Display the table interactively\n",
    "#datatable(covid_table)"
   ]
  },
  {
   "cell_type": "markdown",
   "metadata": {},
   "source": [
    "## TASK 3: Pre-process and export the extracted data frame\n",
    "\n",
    "The goal of task 3 is to pre-process the extracted data frame from the previous step, and export it as a csv file\n"
   ]
  },
  {
   "cell_type": "markdown",
   "metadata": {},
   "source": [
    "Let's get a summary of the data frame\n"
   ]
  },
  {
   "cell_type": "code",
   "execution_count": 77,
   "metadata": {
    "tags": []
   },
   "outputs": [
    {
     "name": "stdout",
     "output_type": "stream",
     "text": [
      " Country.or.region    Date.a.             Tested            Units.b.        \n",
      " Length:173         Length:173         Length:173         Length:173        \n",
      " Class :character   Class :character   Class :character   Class :character  \n",
      " Mode  :character   Mode  :character   Mode  :character   Mode  :character  \n",
      " Confirmed.cases.   Confirmed..tested.. Tested..population..\n",
      " Length:173         Length:173          Length:173          \n",
      " Class :character   Class :character    Class :character    \n",
      " Mode  :character   Mode  :character    Mode  :character    \n",
      " Confirmed..population..     Ref.          \n",
      " Length:173              Length:173        \n",
      " Class :character        Class :character  \n",
      " Mode  :character        Mode  :character  \n"
     ]
    }
   ],
   "source": [
    "# Print the summary of the data frame\n",
    "print(summary(covid_table))"
   ]
  },
  {
   "cell_type": "markdown",
   "metadata": {},
   "source": [
    "As you can see from the summary, the columns names are little bit different to understand and some column data types are not correct. For example, the `Tested` column shows as `character`. \n",
    "\n",
    "As such, the data frame read from HTML table will need some pre-processing such as removing irrelvant columns, renaming columns, and convert columns into proper data types.\n"
   ]
  },
  {
   "cell_type": "markdown",
   "metadata": {},
   "source": [
    "We have prepared a pre-processing function for you to conver the data frame but you can also try to write one by yourself\n"
   ]
  },
  {
   "cell_type": "code",
   "execution_count": 21,
   "metadata": {
    "tags": []
   },
   "outputs": [],
   "source": [
    "preprocess_covid_data_frame <- function(data_frame) {\n",
    "    \n",
    "    shape <- dim(data_frame)\n",
    "\n",
    "    # Remove the World row\n",
    "    data_frame<-data_frame[!(data_frame$`Country.or.region`==\"World\"),]\n",
    "    # Remove the last row\n",
    "    data_frame <- data_frame[1:172, ]\n",
    "    \n",
    "    # We dont need the Units and Ref columns, so can be removed\n",
    "    data_frame[\"Ref.\"] <- NULL\n",
    "    data_frame[\"Units.b.\"] <- NULL\n",
    "    \n",
    "    # Renaming the columns\n",
    "    names(data_frame) <- c(\"country\", \"date\", \"tested\", \"confirmed\", \"confirmed.tested.ratio\", \"tested.population.ratio\", \"confirmed.population.ratio\")\n",
    "    \n",
    "    # Convert column data types\n",
    "    data_frame$country <- as.factor(data_frame$country)\n",
    "    data_frame$date <- as.factor(data_frame$date)\n",
    "    data_frame$tested <- as.numeric(gsub(\",\",\"\",data_frame$tested))\n",
    "    data_frame$confirmed <- as.numeric(gsub(\",\",\"\",data_frame$confirmed))\n",
    "    data_frame$'confirmed.tested.ratio' <- as.numeric(gsub(\",\",\"\",data_frame$`confirmed.tested.ratio`))\n",
    "    data_frame$'tested.population.ratio' <- as.numeric(gsub(\",\",\"\",data_frame$`tested.population.ratio`))\n",
    "    data_frame$'confirmed.population.ratio' <- as.numeric(gsub(\",\",\"\",data_frame$`confirmed.population.ratio`))\n",
    "    \n",
    "    return(data_frame)\n",
    "}\n"
   ]
  },
  {
   "cell_type": "markdown",
   "metadata": {},
   "source": [
    "Call the `preprocess_covid_data_frame` function\n"
   ]
  },
  {
   "cell_type": "code",
   "execution_count": 22,
   "metadata": {
    "tags": []
   },
   "outputs": [],
   "source": [
    "# call `preprocess_covid_data_frame` function and assign it to a new data frame\n",
    "\n",
    "covid_cleaned_data <- preprocess_covid_data_frame(covid_table)\n"
   ]
  },
  {
   "cell_type": "code",
   "execution_count": 23,
   "metadata": {
    "tags": []
   },
   "outputs": [
    {
     "name": "stdout",
     "output_type": "stream",
     "text": [
      "                country             date         tested         \n",
      " Afghanistan        :  1   2 Feb 2023 :  6   Min.   :     3880  \n",
      " Albania            :  1   1 Feb 2023 :  4   1st Qu.:   512037  \n",
      " Algeria            :  1   31 Jan 2023:  4   Median :  3029859  \n",
      " Andorra            :  1   1 Mar 2021 :  3   Mean   : 31377219  \n",
      " Angola             :  1   23 Jul 2021:  3   3rd Qu.: 12386725  \n",
      " Antigua and Barbuda:  1   29 Jan 2023:  3   Max.   :929349291  \n",
      " (Other)            :166   (Other)    :149                      \n",
      "   confirmed        confirmed.tested.ratio tested.population.ratio\n",
      " Min.   :       0   Min.   : 0.00          Min.   :   0.006       \n",
      " 1st Qu.:   37839   1st Qu.: 5.00          1st Qu.:   9.475       \n",
      " Median :  281196   Median :10.05          Median :  46.950       \n",
      " Mean   : 2508340   Mean   :11.25          Mean   : 175.504       \n",
      " 3rd Qu.: 1278105   3rd Qu.:15.25          3rd Qu.: 156.500       \n",
      " Max.   :90749469   Max.   :46.80          Max.   :3223.000       \n",
      "                                                                  \n",
      " confirmed.population.ratio\n",
      " Min.   : 0.000            \n",
      " 1st Qu.: 0.425            \n",
      " Median : 6.100            \n",
      " Mean   :12.769            \n",
      " 3rd Qu.:16.250            \n",
      " Max.   :74.400            \n",
      "                           \n"
     ]
    }
   ],
   "source": [
    "# Print the summary of the processed data frame again\n",
    "\n",
    "print(summary(covid_cleaned_data))"
   ]
  },
  {
   "cell_type": "markdown",
   "metadata": {},
   "source": [
    "Get the summary of the processed data frame again\n"
   ]
  },
  {
   "cell_type": "markdown",
   "metadata": {},
   "source": [
    "After pre-processing, you can see the columns and columns names are simplified, and columns types are converted into correct types.\n"
   ]
  },
  {
   "cell_type": "markdown",
   "metadata": {},
   "source": [
    "OK, we can call `write.csv()` function to save the csv file into a file. \n"
   ]
  },
  {
   "cell_type": "markdown",
   "metadata": {},
   "source": [
    "The data frame has following columns:\n",
    "\n",
    "- **country** - The name of the country\n",
    "- **date** - Reported date\n",
    "- **tested** - Total tested cases by the reported date\n",
    "- **confirmed** - Total confirmed cases by the reported date\n",
    "- **confirmed.tested.ratio** - The ratio of confirmed cases to the tested cases\n",
    "- **tested.population.ratio** - The ratio of tested cases to the population of the country\n",
    "- **confirmed.population.ratio** - The ratio of confirmed cases to the population of the country\n"
   ]
  },
  {
   "cell_type": "code",
   "execution_count": 26,
   "metadata": {
    "tags": []
   },
   "outputs": [
    {
     "name": "stdout",
     "output_type": "stream",
     "text": [
      "Preprocessed data has been exported to preprocessed_covid_testing_statistics.csv \n"
     ]
    }
   ],
   "source": [
    "# Export the data frame to a csv file\n",
    "\n",
    "output_cleaned_file <- \"preprocessed_covid_testing_statistics.csv\"\n",
    "write.csv(covid_cleaned_data, output_cleaned_file, row.names = FALSE)\n",
    "cat(\"Preprocessed data has been exported to\", output_cleaned_file, \"\\n\")"
   ]
  },
  {
   "cell_type": "markdown",
   "metadata": {},
   "source": [
    "Note for IBM Waston Studio, there is no traditional \"hard disk\" associated with a R workspace.\n",
    "\n",
    "Even if you call `write.csv()` method to save the data frame as a csv file, it won't be shown in IBM Cloud Object Storage asset UI automatically.\n",
    "\n",
    "However, you may still check if the `covid.csv` exists using following code snippet:\n"
   ]
  },
  {
   "cell_type": "code",
   "execution_count": 27,
   "metadata": {
    "tags": []
   },
   "outputs": [
    {
     "name": "stdout",
     "output_type": "stream",
     "text": [
      "[1] \"/resources/RP0101EN/v2/M5_Final/covid.csv\"\n"
     ]
    },
    {
     "data": {
      "text/html": [
       "FALSE"
      ],
      "text/latex": [
       "FALSE"
      ],
      "text/markdown": [
       "FALSE"
      ],
      "text/plain": [
       "[1] FALSE"
      ]
     },
     "metadata": {},
     "output_type": "display_data"
    }
   ],
   "source": [
    "# Get working directory\n",
    "wd <- getwd()\n",
    "# Get exported \n",
    "file_path <- paste(wd, sep=\"\", \"/covid.csv\")\n",
    "# File path\n",
    "print(file_path)\n",
    "file.exists(file_path)"
   ]
  },
  {
   "cell_type": "markdown",
   "metadata": {},
   "source": [
    "**Optional Step**: If you have difficulties finishing above webscraping tasks, you may still continue with next tasks by downloading a provided csv file from here:\n"
   ]
  },
  {
   "cell_type": "code",
   "execution_count": 30,
   "metadata": {
    "tags": []
   },
   "outputs": [],
   "source": [
    "## Download a sample csv file\n",
    "# covid_csv_file <- download.file(\"https://cf-courses-data.s3.us.cloud-object-storage.appdomain.cloud/IBMDeveloperSkillsNetwork-RP0101EN-Coursera/v2/dataset/covid.csv\", destfile=\"covid.csv\")\n",
    "# covid_data_frame_csv <- read.csv(\"covid.csv\", header=TRUE, sep=\",\")"
   ]
  },
  {
   "cell_type": "markdown",
   "metadata": {},
   "source": [
    "## TASK 4: Get a subset of the extracted data frame\n",
    "\n",
    "The goal of task 4 is to get the 5th to 10th rows from the data frame with only `country` and `confirmed` columns selected\n"
   ]
  },
  {
   "cell_type": "code",
   "execution_count": 31,
   "metadata": {
    "tags": []
   },
   "outputs": [
    {
     "name": "stdout",
     "output_type": "stream",
     "text": [
      "               country confirmed\n",
      "5               Angola     20981\n",
      "6  Antigua and Barbuda       832\n",
      "7            Argentina   9060495\n",
      "8              Armenia    422963\n",
      "9            Australia  10112229\n",
      "10             Austria   5789991\n"
     ]
    }
   ],
   "source": [
    "# Read covid_data_frame_csv from the csv file\n",
    "\n",
    "covid_data_frame <- read.csv(\"preprocessed_covid_testing_statistics.csv\")\n",
    "\n",
    "# Get the 5th to 10th rows, with two \"country\" \"confirmed\" columns\n",
    "subset_data <- covid_data_frame[5:10, c(\"country\", \"confirmed\")]\n",
    "\n",
    "print(subset_data)"
   ]
  },
  {
   "cell_type": "markdown",
   "metadata": {},
   "source": [
    "## TASK 5: Calculate worldwide COVID testing positive ratio\n",
    "\n",
    "The goal of task 5 is to get the total confirmed and tested cases worldwide, and try to figure the overall positive ratio using `confirmed cases / tested cases`\n"
   ]
  },
  {
   "cell_type": "code",
   "execution_count": 32,
   "metadata": {
    "tags": []
   },
   "outputs": [
    {
     "name": "stdout",
     "output_type": "stream",
     "text": [
      "[1] \"Total Confirmed Cases Worldwide: 431434555\"\n",
      "[1] \"Total Tested Cases Worldwide: 5396881644\"\n",
      "[1] \"Worldwide COVID Testing Positive Ratio: 0.0799414520197323\"\n"
     ]
    }
   ],
   "source": [
    "# Get the total confirmed cases worldwide\n",
    "\n",
    "total_confirmed_cases <- sum(covid_data_frame$confirmed, na.rm = TRUE)\n",
    "\n",
    "# Get the total tested cases worldwide\n",
    "total_tested_cases <- sum(covid_data_frame$tested, na.rm = TRUE)\n",
    "\n",
    "\n",
    "# Get the positive ratio (confirmed / tested)\n",
    "positive_ratio <- total_confirmed_cases / total_tested_cases\n",
    "\n",
    "# Print the total confirmed cases, total tested cases, and positive ratio\n",
    "print(paste(\"Total Confirmed Cases Worldwide:\", total_confirmed_cases))\n",
    "print(paste(\"Total Tested Cases Worldwide:\", total_tested_cases))\n",
    "print(paste(\"Worldwide COVID Testing Positive Ratio:\", positive_ratio))\n",
    "\n",
    "\n"
   ]
  },
  {
   "cell_type": "markdown",
   "metadata": {},
   "source": [
    "## TASK 6: Get a country list which reported their testing data \n",
    "\n",
    "The goal of task 6 is to get a catalog or sorted list of countries who have reported their COVID-19 testing data\n"
   ]
  },
  {
   "cell_type": "code",
   "execution_count": 33,
   "metadata": {
    "tags": []
   },
   "outputs": [
    {
     "name": "stdout",
     "output_type": "stream",
     "text": [
      "[1] \"factor\"\n",
      "  [1] \"Zimbabwe\"               \"Zambia\"                 \"Vietnam\"               \n",
      "  [4] \"Venezuela\"              \"Uzbekistan\"             \"Uruguay\"               \n",
      "  [7] \"United States\"          \"United Kingdom\"         \"United Arab Emirates\"  \n",
      " [10] \"Ukraine\"                \"Uganda\"                 \"Turkey\"                \n",
      " [13] \"Tunisia\"                \"Trinidad and Tobago\"    \"Togo\"                  \n",
      " [16] \"Thailand\"               \"Tanzania\"               \"Taiwan[m]\"             \n",
      " [19] \"Switzerland[l]\"         \"Sweden\"                 \"Sudan\"                 \n",
      " [22] \"Sri Lanka\"              \"Spain\"                  \"South Sudan\"           \n",
      " [25] \"South Korea\"            \"South Africa\"           \"Slovenia\"              \n",
      " [28] \"Slovakia\"               \"Singapore\"              \"Serbia\"                \n",
      " [31] \"Senegal\"                \"Saudi Arabia\"           \"San Marino\"            \n",
      " [34] \"Saint Vincent\"          \"Saint Lucia\"            \"Saint Kitts and Nevis\" \n",
      " [37] \"Rwanda\"                 \"Russia\"                 \"Romania\"               \n",
      " [40] \"Qatar\"                  \"Portugal\"               \"Poland\"                \n",
      " [43] \"Philippines\"            \"Peru\"                   \"Paraguay\"              \n",
      " [46] \"Papua New Guinea\"       \"Panama\"                 \"Palestine\"             \n",
      " [49] \"Pakistan\"               \"Oman\"                   \"Norway\"                \n",
      " [52] \"Northern Cyprus[k]\"     \"North Macedonia\"        \"North Korea\"           \n",
      " [55] \"Nigeria\"                \"Niger\"                  \"New Zealand\"           \n",
      " [58] \"New Caledonia\"          \"Netherlands\"            \"Nepal\"                 \n",
      " [61] \"Namibia\"                \"Myanmar\"                \"Mozambique\"            \n",
      " [64] \"Morocco\"                \"Montenegro\"             \"Mongolia\"              \n",
      " [67] \"Moldova[j]\"             \"Mexico\"                 \"Mauritius\"             \n",
      " [70] \"Mauritania\"             \"Malta\"                  \"Mali\"                  \n",
      " [73] \"Maldives\"               \"Malaysia\"               \"Malawi\"                \n",
      " [76] \"Madagascar\"             \"Luxembourg[i]\"          \"Lithuania\"             \n",
      " [79] \"Libya\"                  \"Liberia\"                \"Lesotho\"               \n",
      " [82] \"Lebanon\"                \"Latvia\"                 \"Laos\"                  \n",
      " [85] \"Kyrgyzstan\"             \"Kuwait\"                 \"Kosovo\"                \n",
      " [88] \"Kenya\"                  \"Kazakhstan\"             \"Jordan\"                \n",
      " [91] \"Japan\"                  \"Jamaica\"                \"Ivory Coast\"           \n",
      " [94] \"Italy\"                  \"Israel\"                 \"Ireland\"               \n",
      " [97] \"Iraq\"                   \"Iran\"                   \"Indonesia\"             \n",
      "[100] \"India\"                  \"Iceland\"                \"Hungary\"               \n",
      "[103] \"Honduras\"               \"Haiti\"                  \"Guyana\"                \n",
      "[106] \"Guinea-Bissau\"          \"Guinea\"                 \"Guatemala\"             \n",
      "[109] \"Grenada\"                \"Greenland\"              \"Greece\"                \n",
      "[112] \"Ghana\"                  \"Germany\"                \"Georgia[h]\"            \n",
      "[115] \"Gambia\"                 \"Gabon\"                  \"France[f][g]\"          \n",
      "[118] \"Finland\"                \"Fiji\"                   \"Faroe Islands\"         \n",
      "[121] \"Ethiopia\"               \"Eswatini\"               \"Estonia\"               \n",
      "[124] \"Equatorial Guinea\"      \"El Salvador\"            \"Egypt\"                 \n",
      "[127] \"Ecuador\"                \"DR Congo\"               \"Dominican Republic\"    \n",
      "[130] \"Dominica\"               \"Djibouti\"               \"Denmark[e]\"            \n",
      "[133] \"Czechia\"                \"Cyprus[d]\"              \"Cuba\"                  \n",
      "[136] \"Croatia\"                \"Costa Rica\"             \"Colombia\"              \n",
      "[139] \"China[c]\"               \"Chile\"                  \"Chad\"                  \n",
      "[142] \"Canada\"                 \"Cameroon\"               \"Cambodia\"              \n",
      "[145] \"Burundi\"                \"Burkina Faso\"           \"Bulgaria\"              \n",
      "[148] \"Brunei\"                 \"Brazil\"                 \"Botswana\"              \n",
      "[151] \"Bosnia and Herzegovina\" \"Bolivia\"                \"Bhutan\"                \n",
      "[154] \"Benin\"                  \"Belize\"                 \"Belgium\"               \n",
      "[157] \"Belarus\"                \"Barbados\"               \"Bangladesh\"            \n",
      "[160] \"Bahrain\"                \"Bahamas\"                \"Azerbaijan\"            \n",
      "[163] \"Austria\"                \"Australia\"              \"Armenia\"               \n",
      "[166] \"Argentina\"              \"Antigua and Barbuda\"    \"Angola\"                \n",
      "[169] \"Andorra\"                \"Algeria\"                \"Albania\"               \n",
      "[172] \"Afghanistan\"           \n"
     ]
    }
   ],
   "source": [
    "# Get the `country` column\n",
    "country_list <- covid_data_frame$country\n",
    "\n",
    "# Check its class (should be Factor)\n",
    "print(class(country_list))\n",
    "\n",
    "# Conver the country column into character so that you can easily sort them\n",
    "country_list_char <- as.character(country_list)\n",
    "\n",
    "# Sort the countries AtoZ\n",
    "sorted_A_to_Z <- sort(country_list_char)\n",
    "\n",
    "# Sort the countries ZtoA\n",
    "sorted_Z_to_A <- sort(country_list_char, decreasing = TRUE)\n",
    "\n",
    "# Print the sorted ZtoA list\n",
    "print(sorted_Z_to_A)"
   ]
  },
  {
   "cell_type": "markdown",
   "metadata": {},
   "source": [
    "## TASK 7: Identify countries names with a specific pattern\n",
    "\n",
    "The goal of task 7 is using a regular expression to find any countires start with `United`\n"
   ]
  },
  {
   "cell_type": "code",
   "execution_count": 34,
   "metadata": {
    "tags": []
   },
   "outputs": [
    {
     "name": "stdout",
     "output_type": "stream",
     "text": [
      "[1] \"United Arab Emirates\" \"United Kingdom\"       \"United States\"       \n"
     ]
    }
   ],
   "source": [
    "# Use a regular expression `United.+` to find matches\n",
    "countries_starting_with_united <- grep(\"United.+\", country_list, value = TRUE)\n",
    "\n",
    "# Print the matched country names\n",
    "print(countries_starting_with_united)"
   ]
  },
  {
   "cell_type": "markdown",
   "metadata": {},
   "source": [
    "## TASK 8: Pick two countries you are interested, and then review their testing data\n",
    "\n",
    "The goal of task 8 is to compare the COVID-19 test data between two countires, you will need to select two rows from the dataframe, and select `country`, `confirmed`, `confirmed-population-ratio` columns\n"
   ]
  },
  {
   "cell_type": "code",
   "execution_count": 40,
   "metadata": {
    "tags": []
   },
   "outputs": [
    {
     "data": {
      "text/html": [
       "<style>\n",
       ".list-inline {list-style: none; margin:0; padding: 0}\n",
       ".list-inline>li {display: inline-block}\n",
       ".list-inline>li:not(:last-child)::after {content: \"\\00b7\"; padding: 0 .5ex}\n",
       "</style>\n",
       "<ol class=list-inline><li>'country'</li><li>'date'</li><li>'tested'</li><li>'confirmed'</li><li>'confirmed.tested.ratio'</li><li>'tested.population.ratio'</li><li>'confirmed.population.ratio'</li></ol>\n"
      ],
      "text/latex": [
       "\\begin{enumerate*}\n",
       "\\item 'country'\n",
       "\\item 'date'\n",
       "\\item 'tested'\n",
       "\\item 'confirmed'\n",
       "\\item 'confirmed.tested.ratio'\n",
       "\\item 'tested.population.ratio'\n",
       "\\item 'confirmed.population.ratio'\n",
       "\\end{enumerate*}\n"
      ],
      "text/markdown": [
       "1. 'country'\n",
       "2. 'date'\n",
       "3. 'tested'\n",
       "4. 'confirmed'\n",
       "5. 'confirmed.tested.ratio'\n",
       "6. 'tested.population.ratio'\n",
       "7. 'confirmed.population.ratio'\n",
       "\n",
       "\n"
      ],
      "text/plain": [
       "[1] \"country\"                    \"date\"                      \n",
       "[3] \"tested\"                     \"confirmed\"                 \n",
       "[5] \"confirmed.tested.ratio\"     \"tested.population.ratio\"   \n",
       "[7] \"confirmed.population.ratio\""
      ]
     },
     "metadata": {},
     "output_type": "display_data"
    },
    {
     "name": "stdout",
     "output_type": "stream",
     "text": [
      "          country confirmed confirmed.population.ratio\n",
      "166 United States  90749469                       27.4\n",
      "           country confirmed confirmed.population.ratio\n",
      "165 United Kingdom  22232377                       32.9\n"
     ]
    }
   ],
   "source": [
    "covid_data_frame <- read.csv(\"preprocessed_covid_testing_statistics.csv\")\n",
    "\n",
    "colnames(covid_data_frame)\n",
    "\n",
    "# Select a subset (should be only one row) of data frame based on a selected country name and columns\n",
    "country1_data <- subset(covid_data_frame, country == \"United States\", select = c(\"country\", \"confirmed\", \"confirmed.population.ratio\"))\n",
    "\n",
    "# Select a subset (should be only one row) of data frame based on a selected country name and columns\n",
    "country2_data <- subset(covid_data_frame, country == \"United Kingdom\", select = c(\"country\", \"confirmed\", \"confirmed.population.ratio\"))\n",
    "\n",
    "# Print the data for both countries\n",
    "print(country1_data)\n",
    "print(country2_data)"
   ]
  },
  {
   "cell_type": "markdown",
   "metadata": {},
   "source": [
    "## TASK 9: Compare which one of the selected countries has a larger ratio of confirmed cases to population\n",
    "\n",
    "The goal of task 9 is to find out which country you have selected before has larger ratio of confirmed cases to population, which may indicate that country has higher COVID-19 infection risk\n"
   ]
  },
  {
   "cell_type": "code",
   "execution_count": 51,
   "metadata": {
    "tags": []
   },
   "outputs": [
    {
     "name": "stdout",
     "output_type": "stream",
     "text": [
      "[1] \"United Kingdom has a higher confirmed cases to population ratio: 32.9\"\n"
     ]
    }
   ],
   "source": [
    "ratio1 <- country1_data$confirmed.population.ratio\n",
    "ratio2 <- country2_data$confirmed.population.ratio\n",
    "\n",
    "# Compare the ratios and print the result\n",
    "if (ratio1 > ratio2) {\n",
    "print(paste(country1_data$country, \"has a higher confirmed cases to population ratio:\", ratio1))\n",
    "} else if (ratio2 > ratio1) {\n",
    "print(paste(country2_data$country, \"has a higher confirmed cases to population ratio:\", ratio2))\n",
    "} else {\n",
    "print(\"Both countries have the same confirmed cases to population ratio.\")\n",
    "}\n"
   ]
  },
  {
   "cell_type": "markdown",
   "metadata": {},
   "source": [
    "## TASK 10: Find countries with confirmed to population ratio rate less than a threshold\n",
    "\n",
    "The goal of task 10 is to find out which countries have the confirmed to population ratio less than 1%, it may indicate the risk of those countries are relatively low\n"
   ]
  },
  {
   "cell_type": "code",
   "execution_count": 52,
   "metadata": {
    "tags": []
   },
   "outputs": [
    {
     "name": "stdout",
     "output_type": "stream",
     "text": [
      "        country confirmed.population.ratio\n",
      "28      Burundi                    0.00740\n",
      "34     China[c]                    0.00610\n",
      "89         Laos                    0.00063\n",
      "119 North Korea                    0.00000\n",
      "156    Tanzania                    0.00085\n"
     ]
    }
   ],
   "source": [
    "# Get a subset of any countries with `confirmed.population.ratio` less than the threshold\n",
    "\n",
    "low_risk_countries <- subset(covid_data_frame, confirmed.population.ratio < 0.01, \n",
    "                             select = c(\"country\", \"confirmed.population.ratio\"))\n",
    "\n",
    "print(low_risk_countries)"
   ]
  },
  {
   "cell_type": "code",
   "execution_count": null,
   "metadata": {},
   "outputs": [],
   "source": []
  }
 ],
 "metadata": {
  "kernelspec": {
   "display_name": "R",
   "language": "R",
   "name": "conda-env-r-r"
  },
  "language_info": {
   "codemirror_mode": "r",
   "file_extension": ".r",
   "mimetype": "text/x-r-source",
   "name": "R",
   "pygments_lexer": "r",
   "version": "3.5.1"
  }
 },
 "nbformat": 4,
 "nbformat_minor": 4
}
